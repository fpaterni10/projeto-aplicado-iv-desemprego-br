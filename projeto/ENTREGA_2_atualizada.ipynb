{
  "nbformat": 4,
  "nbformat_minor": 5,
  "metadata": {
    "colab": {
      "provenance": [],
      "include_colab_link": true
    },
    "kernelspec": {
      "name": "python3",
      "display_name": "Python 3"
    },
    "language_info": {
      "name": "python"
    }
  },
  "cells": [
    {
      "cell_type": "markdown",
      "metadata": {
        "id": "view-in-github",
        "colab_type": "text"
      },
      "source": [
        "<a href=\"https://colab.research.google.com/github/fpaterni10/projeto-aplicado-iv-desemprego-br/blob/main/projeto/cd_projeto_aplicado_IV_entrega_2.ipynb\" target=\"_parent\"><img src=\"https://colab.research.google.com/assets/colab-badge.svg\" alt=\"Open In Colab\"/></a>"
      ]
    },
    {
      "cell_type": "markdown",
      "metadata": {
        "id": "cabecalho2"
      },
      "source": [
        "  <img src=\"https://raw.githubusercontent.com/scalabrinig/cdProjetoAplicadoIV/d093146488f56dfcf0ef286bcee8efe0e71b9c76/figuras/mackenzie_logo.jpg\" width=\"25%\" align=\"right\"/>\n",
        "\n",
        "# **PROJETO APLICADO IV - Ciência de Dados EaD - 2025/02**\n",
        "\n",
        "# **Entrega 2**\n",
        "---"
      ]
    },
    {
      "cell_type": "markdown",
      "metadata": {
        "id": "titulo2"
      },
      "source": [
        "# **Previsão da Taxa de Desocupação com Modelos de Séries Temporais**\n",
        "---"
      ]
    },
    {
      "cell_type": "code",
      "metadata": {
        "id": "identificacao2"
      },
      "execution_count": null,
      "outputs": [],
      "source": [
        "#@title **Identificação do Grupo e Opção do Projeto**\n",
        "#@markdown Integrantes do Grupo, nome completo em ordem alfabética (informe: <nome>, <matrícula>)\n",
        "Aluno1 = 'Aline Correa de Araújo, 10414773' #@param {type:\"string\"}\n",
        "Aluno2 = 'Franciele Paterni, 10414598' #@param {type:\"string\"}\n",
        "Aluno3 = 'Giovanna Sobral da Silva, 10424600' #@param {type:\"string\"}\n",
        "Aluno4 = 'Guilherme Soares Frota, 10416060' #@param {type:\"string\"}"
      ]
    },
    {
      "cell_type": "markdown",
      "metadata": {
        "id": "intro2"
      },
      "source": [
        "# **Introdução**\n",
        "A taxa de desocupação mede a saúde do mercado de trabalho e responde a fatores macroeconômicos (SELIC, inflação) e ao dinamismo do emprego formal. **Neste projeto, o alvo (y) é a Taxa de Desocupação da PNAD Contínua/IBGE (mensal)**. Usaremos **CAGED (saldo)** e **SELIC** como **regressoras (X)**. O modelo base será **SARIMAX**; **ARIMA/SARIMA** servirão de *baselines*.\n",
        "\n",
        "**Objetivo geral**: prever a taxa de desocupação mensal em 2025.\n",
        "**Objetivos específicos**: consolidar PNAD/IBGE (alvo) + CAGED/SELIC (regressoras) 2012–2025; analisar propriedades; testar ARIMA/SARIMA/SARIMAX; validar com *walk‑forward*; gerar *forecast* 2025.\n",
        "\n",
        "**ODS 8 (Trabalho decente e crescimento econômico)**: disponibilizar previsões abertas e código reprodutível."
      ]
    },
    {
      "cell_type": "markdown",
      "metadata": {
        "id": "ref-teorico"
      },
      "source": [
        "# **Referencial Teórico (≤ 1 página)**\n",
        "Modelos clássicos (**ARIMA/SARIMA**) capturam tendência e sazonalidade; extensões com regressoras (**SARIMAX**) incorporam efeitos de variáveis exógenas (HYNDMAN; ATHANASOPOULOS, 2021). Em aplicações econômicas brasileiras, estudos reportam bons resultados com modelos sazonais e com regressoras quando há validação temporal e tratamento cuidadoso de *outliers* e mudanças estruturais (CASAGRANDE et al., 2016; OLIVEIRA; ALBARRACÍN; SILVA, 2023).\n",
        "\n",
        "Neste projeto, adotamos **SARIMAX** (alvo: **PNAD/IBGE**; regressoras: **CAGED** e **SELIC**) como modelo principal; **ARIMA/SARIMA** como *baselines*. Avaliação por **walk‑forward**, com **RMSE/MAE** e MAPE (com cautela)."
      ]
    },
    {
      "cell_type": "markdown",
      "metadata": {
        "id": "pipeline2"
      },
      "source": [
        "# **Pipeline da Solução**\n",
        "1. **Aquisição de dados**  \n",
        "   - PNAD/IBGE (taxa de desocupação, mensal, alvo), **CAGED** (saldo), **SELIC** (BCB).  \n",
        "   - Armazenamento inicial em `data/raw/`.\n",
        "2. **Pré‑processamento**  \n",
        "   - Padronização de datas/frequência mensal.  \n",
        "   - **Tratamento de *outliers* e lacunas**: inspeção visual, z‑score/IQR; winsorização quando necessário; **interpolação temporal** ou **média local** para lacunas pontuais, preservando sazonalidade. Decisões documentadas e reproduzíveis.  \n",
        "   - Consolidação em `data/processed/`.\n",
        "3. **Análise exploratória e decomposição**  \n",
        "   - Inspeção de **tendência**, **sazonalidade** e **resíduos** (decomposição, ACF/PACF).\n",
        "4. **Engenharia de regressoras (X)**  \n",
        "   - Inclusão de **SELIC** e **CAGED**; avaliação de **defasagens** e **médias móveis**.\n",
        "5. **Modelagem e validação temporal**  \n",
        "   - *Baselines*: Naive/ARIMA/SARIMA.  \n",
        "   - **Principal**: **SARIMAX** (PNAD ~ SELIC + CAGED).  \n",
        "   - **Walk‑forward** com janelas aninhadas.\n",
        "6. **Avaliação e previsão**  \n",
        "   - **RMSE/MAE** e MAPE (com cautela).  \n",
        "   - *Forecast* 2025 com intervalos de confiança. Resultados em `results/`.\n",
        "7. **Documentação e entrega**  \n",
        "   - Organização dos notebooks, figuras e README."
      ]
    },
    {
      "cell_type": "markdown",
      "metadata": {
        "id": "mini-leitura"
      },
      "source": [
        "## **Leitura preliminar da série (guia para a EDA)**\n",
        "- **Tendência**: relação com ciclo econômico.  \n",
        "- **Sazonalidade**: padrão mensal provável; confirmar com ACF/PACF.  \n",
        "- **Ciclos**: choques (pandemia, juros) podem criar flutuações adicionais.  \n",
        "- **Ruído**: flutuação de curto prazo; suavização apenas para diagnóstico."
      ]
    },
    {
      "cell_type": "markdown",
      "metadata": {
        "id": "cronograma"
      },
      "source": [
        "# **Cronograma**\n",
        "##  Etapas 1 e 2:  (20/08/2025 — 26/09/2025)\n",
        "| Nº | Atividade | Responsável(es) | Data início | Data término | Status |\n",
        "|----|-----------|------------------|-------------|--------------|--------|\n",
        "| 1 | Definição do título e escopo do projeto | Todos | 20/08/2025 | 07/09/2025 | Concluído |\n",
        "| 2 | Identificação do grupo (nomes e matrículas) | Todos | 20/08/2025 | 07/09/2025 | Concluído |\n",
        "| 3 | Redação da Introdução, Motivação e Justificativa | Todos | 20/08/2025 | 07/09/2025 | Concluído |\n",
        "| 4 | Formulação de Objetivo Geral e Objetivos Específicos | Todos | 20/08/2025 | 07/09/2025 | Concluído |\n",
        "| 5 | Consolidação das bases (PNAD/IBGE alvo; CAGED/SELIC regressoras) | Franciele / Guilherme | 20/08/2025 | 07/09/2025 | Concluído |\n",
        "| 6 | Justificativa metodológica e bibliografia inicial | Aline / Giovanna | 20/08/2025 | 07/09/2025 | Concluído |\n",
        "| 7 | Planejamento inicial (pipeline + subetapas) | Todos | 20/08/2025 | 25/09/2025 | Concluído |\n",
        "| 8 | Elaboração da Entrega 2 (referencial + pipeline + cronograma) | Todos | 10/09/2025 | 25/09/2025 | Concluído |\n",
        "\n",
        "---\n",
        "## Etapa 3: Implementação Parcial (25/09/2025 — 31/10/2025)\n",
        "| Nº | Atividade | Responsável(es) | Início | Término | Status |\n",
        "|----|-----------|------------------|--------|---------|--------|\n",
        "| 9 | Aquisição e integração dos arquivos brutos (IBGE/CAGED/SELIC) | Guilherme / Fran | 25/09 | 28/09 | Em andamento |\n",
        "| 10 | Pré‑processamento e montagem da série mensal consolidada | Fran / Aline | 29/09 | 06/10 | Planejado |\n",
        "| 11 | Engenharia de X (SELIC, CAGED, lags, MMs) | Guilherme / Giovanna | 29/09 | 06/10 | Planejado |\n",
        "| 12 | EDA e visualizações | Giovanna / Aline | 07/10 | 13/10 | Planejado |\n",
        "| 13 | Diagrama da solução (fluxo do pipeline) | Todos | 07/10 | 10/10 | Planejado |\n",
        "| 14 | Definição final dos modelos candidatos | Todos | 14/10 | 16/10 | Planejado |\n",
        "| 15 | Treinamento inicial dos modelos clássicos | Aline / Guilherme | 17/10 | 20/10 | Planejado |\n",
        "| 16 | Baseline com redes neurais (opcional) | Giovanna / Fran | 21/10 | 24/10 | Planejado |\n",
        "| 17 | Avaliação preliminar e ajustes | Todos | 25/10 | 28/10 | Planejado |\n",
        "| 18 | Consolidação da Entrega 3 (notebook parcial) | Todos | 29/10 | 31/10 | Planejado |"
      ]
    },
    {
      "cell_type": "markdown",
      "metadata": {
        "id": "refs2"
      },
      "source": [
        "# **Referências**\n",
        "- HYNDMAN, R. J.; ATHANASOPOULOS, G. *Forecasting: principles and practice*. 3ª ed. Online.\n",
        "- OLIVEIRA, R.; ALBARRACÍN, O. Y.; SILVA, G. R. *Introdução às Séries Temporais: Uma Abordagem Prática em Python*. 2023.\n",
        "- CASAGRANDE, D. L.; OLIVEIRA, F. R.; STUDART, G.; et al. *Métodos de previsão para a taxa de desemprego mensal: uma análise de séries temporais*. Revista de Economia, 2016.\n",
        "- IBGE. **PNAD Contínua – Taxa de Desocupação (mensal)**. Acesso em: set. 2025.\n",
        "- BANCO CENTRAL DO BRASIL. **Taxa SELIC – histórico mensal**. Acesso em: set. 2025.\n",
        "- BRASIL. MTE. **CAGED – microdados mensais (2012–2025)**. Portal PDET. Acesso em: set. 2025."
      ]
    }
  ]
}
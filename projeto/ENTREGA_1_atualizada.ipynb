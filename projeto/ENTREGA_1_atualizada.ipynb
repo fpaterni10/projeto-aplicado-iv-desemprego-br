{
  "nbformat": 4,
  "nbformat_minor": 5,
  "metadata": {
    "colab": {
      "provenance": [],
      "include_colab_link": true
    },
    "kernelspec": {
      "name": "python3",
      "display_name": "Python 3"
    },
    "language_info": {
      "name": "python"
    }
  },
  "cells": [
    {
      "cell_type": "markdown",
      "metadata": {
        "id": "view-in-github",
        "colab_type": "text"
      },
      "source": [
        "<a href=\"https://colab.research.google.com/github/fpaterni10/projeto-aplicado-iv-desemprego-br/blob/main/notebooks/entrega1/cd_projeto_aplicado_IV.ipynb\" target=\"_parent\"><img src=\"https://colab.research.google.com/assets/colab-badge.svg\" alt=\"Open In Colab\"/></a>"
      ]
    },
    {
      "cell_type": "markdown",
      "metadata": {
        "id": "cabecalho"
      },
      "source": [
        "  <img src=\"https://raw.githubusercontent.com/scalabrinig/cdProjetoAplicadoIV/d093146488f56dfcf0ef286bcee8efe0e71b9c76/figuras/mackenzie_logo.jpg\" width=\"25%\" align=\"right\"/>\n",
        "\n",
        "# **PROJETO APLICADO IV - Ciência de Dados EaD - 2025/02**\n",
        "\n",
        "# **Entrega 1**\n",
        "---"
      ]
    },
    {
      "cell_type": "markdown",
      "metadata": {
        "id": "titulo"
      },
      "source": [
        "# **Previsão da Taxa de Desocupação no Brasil com Modelos de Séries Temporais**\n",
        "---"
      ]
    },
    {
      "cell_type": "code",
      "metadata": {
        "id": "identificacao"
      },
      "execution_count": null,
      "outputs": [],
      "source": [
        "#@title **Identificação do Grupo e Opção do Projeto**\n",
        "#@markdown Integrantes do Grupo, nome completo em ordem alfabética (informe: <nome>, <matrícula>)\n",
        "Aluno1 = 'Aline Correa de Araújo, 10414773' #@param {type:\"string\"}\n",
        "Aluno2 = 'Franciele Paterni, 10414598' #@param {type:\"string\"}\n",
        "Aluno3 = 'Giovanna Sobral da Silva, 10424600' #@param {type:\"string\"}\n",
        "Aluno4 = 'Guilherme Soares Frota, 10416060' #@param {type:\"string\"}"
      ]
    },
    {
      "cell_type": "markdown",
      "metadata": {
        "id": "introducao"
      },
      "source": [
        "# **Introdução**\n",
        "A taxa de desocupação é indicador central do mercado de trabalho e impacta renda, consumo e bem‑estar das famílias (DIEESE, 2020). Os movimentos do desemprego respondem a fatores macroeconômicos como a política monetária (SELIC), inflação e o dinamismo do emprego formal.\n",
        "\n",
        "Neste projeto, **a variável‑alvo (y)** é a **Taxa de Desocupação da PNAD Contínua/IBGE (mensal)**. Para enriquecer a explicação e a capacidade preditiva, usaremos como **regressoras (X)**: **CAGED** (saldo de empregos formais) e **SELIC** (Banco Central). A modelagem base considerará **SARIMAX** (com regressoras) e, como *baselines*, **ARIMA/SARIMA**."
      ]
    },
    {
      "cell_type": "markdown",
      "metadata": {
        "id": "objetivos"
      },
      "source": [
        "# **Objetivo**\n",
        "Prever a **taxa de desocupação mensal (PNAD/IBGE)** para 2025 com modelos de séries temporais.\n",
        "\n",
        "## **Objetivos específicos**\n",
        "1. Consolidar e tratar as séries mensais: **PNAD/IBGE (alvo)**, **CAGED** (regressora) e **SELIC** (regressora), 2012–2025.\n",
        "2. Descrever propriedades iniciais (tendência/sazonalidade) a detalhar na EDA da próxima etapa.\n",
        "3. Definir modelos candidatos (**ARIMA/SARIMA/SARIMAX**).\n",
        "4. Planejar validação temporal (*walk‑forward*) e métricas (**RMSE/MAE/MAPE**).\n",
        "5. Preparar previsão mensal para 2025."
      ]
    },
    {
      "cell_type": "markdown",
      "metadata": {
        "id": "justificativa"
      },
      "source": [
        "# **Motivação e Justificativa**\n",
        "Antecipar a trajetória do desemprego auxilia políticas públicas, planejamento de qualificação e decisões econômicas. O projeto oferece **artefato reprodutível** (código aberto) com foco na utilidade prática e na transparência.\n",
        "\n",
        "## **Conexão com ODS e extensão**\n",
        "Contribui para o **ODS 8 – Trabalho decente e crescimento econômico**, ao disponibilizar **previsões abertas** e **código reprodutível** que podem apoiar decisões públicas e privadas."
      ]
    },
    {
      "cell_type": "markdown",
      "metadata": {
        "id": "base-dados"
      },
      "source": [
        "# **Descrição da Base de Dados**\n",
        "**PNAD Contínua/IBGE – Taxa de Desocupação (alvo)**  \n",
        "- Periodicidade: mensal.  \n",
        "- Período: 2012–2025 (conforme disponibilidade oficial).  \n",
        "- Uso no projeto: **variável‑alvo (y)**.  \n",
        "- Fonte: IBGE (PNAD Contínua).  \n",
        "\n",
        "**CAGED – Cadastro Geral de Empregados e Desempregados (regressora)**  \n",
        "- Formato: microdados consolidados mensalmente (saldo).  \n",
        "- Período: 2012–2025.  \n",
        "- Uso no projeto: **regressora (X)** relacionada ao dinamismo do mercado formal.  \n",
        "- Fonte: Ministério do Trabalho e Emprego (MTE).  \n",
        "\n",
        "**SELIC – Taxa básica de juros (regressora)**  \n",
        "- Periodicidade: mensal.  \n",
        "- Período: 2012–2025.  \n",
        "- Uso no projeto: **regressora (X)** macroeconômica.  \n",
        "- Fonte: Banco Central do Brasil.  \n",
        "\n",
        "**Observações iniciais (detalhe na próxima etapa)**  \n",
        "- Possível **tendência** e **sazonalidade** no alvo.  \n",
        "- Choques econômicos (pandemia, ciclos de juros) podem introduzir **ciclos**.  \n",
        "- O tratamento de **lacunas** e **outliers** será documentado no *pipeline*."
      ]
    },
    {
      "cell_type": "markdown",
      "metadata": {
        "id": "refs"
      },
      "source": [
        "# **Referências**\n",
        "- IBGE. **PNAD Contínua – Taxa de Desocupação (mensal)**. Acesso em: set. 2025.\n",
        "- BANCO CENTRAL DO BRASIL. **Taxa SELIC – séries históricas (mensal)**. Acesso em: set. 2025.\n",
        "- MINISTÉRIO DO TRABALHO E EMPREGO. **CAGED – microdados mensais (2012–2025)**. Portal PDET. Acesso em: set. 2025.\n",
        "- DIEESE. **Análises do mercado de trabalho**. Acesso em: set. 2025."
      ]
    }
  ]
}
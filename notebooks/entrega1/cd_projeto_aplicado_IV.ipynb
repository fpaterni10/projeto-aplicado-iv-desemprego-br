{
  "nbformat": 4,
  "nbformat_minor": 0,
  "metadata": {
    "colab": {
      "provenance": [],
      "include_colab_link": true
    },
    "kernelspec": {
      "name": "python3",
      "display_name": "Python 3"
    },
    "language_info": {
      "name": "python"
    }
  },
  "cells": [
    {
      "cell_type": "markdown",
      "metadata": {
        "id": "view-in-github",
        "colab_type": "text"
      },
      "source": [
        "<a href=\"https://colab.research.google.com/github/fpaterni10/projeto-aplicado-iv-desemprego-br/blob/main/notebooks/entrega1/cd_projeto_aplicado_IV.ipynb\" target=\"_parent\"><img src=\"https://colab.research.google.com/assets/colab-badge.svg\" alt=\"Open In Colab\"/></a>"
      ]
    },
    {
      "cell_type": "markdown",
      "source": [
        "  <img src=\"https://raw.githubusercontent.com/scalabrinig/cdProjetoAplicadoIV/d093146488f56dfcf0ef286bcee8efe0e71b9c76/figuras/mackenzie_logo.jpg\" width=\"25%\" align=\"right\"/>\n",
        "\n",
        "# **PROJETO APLICADO IV - Ciência de Dados EaD - 2025/02**\n",
        "\n",
        "# **Entrega 1**\n",
        "---"
      ],
      "metadata": {
        "id": "Ux5TSX--qOft"
      }
    },
    {
      "cell_type": "markdown",
      "source": [
        "# **Previsão da Taxa de Desocupação no Brasil com Modelos de Séries Temporais**\n",
        "---"
      ],
      "metadata": {
        "id": "-UJ6Rj9jrJFM"
      }
    },
    {
      "cell_type": "code",
      "source": [
        "#@title **Identificação do Grupo e Opção do Projeto**\n",
        "\n",
        "#@markdown Integrantes do Grupo, nome completo em ordem alfabética (*informe: <nome>, <matrícula>*)\n",
        "Aluno1 = 'Aline Correa de Araújo, 10414773' #@param {type:\"string\"}\n",
        "Aluno2 = 'Franciele Paterni, 10414598' #@param {type:\"string\"}\n",
        "Aluno3 = 'Giovanna Sobral da Silva, 10424600' #@param {type:\"string\"}\n",
        "Aluno4 = 'Guilherme Soares Frota, 10416060' #@param {type:\"string\"}"
      ],
      "metadata": {
        "id": "yky3TEyXoGaY"
      },
      "execution_count": null,
      "outputs": []
    },
    {
      "cell_type": "markdown",
      "source": [
        "# **Introdução**\n",
        "A taxa de desocupação é um dos principais indicadores socioeconômicos utilizados para medir a saúde do mercado de trabalho. No Brasil, esse índice reflete diretamente o poder de compra, a renda das famílias e a qualidade de vida da população. Os movimentos da desocupação estão fortemente associados a fatores macroeconômicos, como política monetária, taxa básica de juros (SELIC), inflação e geração de empregos formais.\n",
        "\n",
        "Ao longo da última década, a taxa de desemprego tem sofrido oscilações expressivas, principalmente em períodos de crise econômica e de retração do mercado formal. Esses ciclos impactam o consumo interno, aumentam a informalidade e acentuam desigualdades sociais. Por isso, compreender o comportamento da taxa de desocupação e prever sua evolução é estratégico para subsidiar a formulação de políticas públicas, orientar investimentos e apoiar ações de requalificação profissional.\n",
        "\n",
        "Neste projeto, propomos um modelo preditivo baseado em séries temporais capaz de estimar, mês a mês, a taxa de desemprego no Brasil, considerando microdados do CAGED (2012–2025) e variáveis exógenas como a taxa SELIC. Essa abordagem combina granularidade dos microdados trabalhistas com fatores macroeconômicos, permitindo análises mais robustas e aplicáveis."
      ],
      "metadata": {
        "id": "3_YOokpLogtZ"
      }
    },
    {
      "cell_type": "markdown",
      "source": [
        "# **Objetivo**  \n",
        "\n",
        "Prever a taxa de desocupação mensal no Brasil para o ano de 2025, utilizando modelos de séries temporais baseados no CAGED (2012–2025) e incorporando variáveis exógenas como a taxa SELIC.  \n",
        "\n",
        "**Objetivos Específicos**  \n",
        "1. Consolidar e tratar uma base mensal com os microdados do CAGED (2012–2025).  \n",
        "2. Incorporar variáveis exógenas relevantes (como a SELIC) no modelo de previsão.  \n",
        "3. Analisar as propriedades estatísticas da série (estacionariedade, sazonalidade, linearidade).  \n",
        "4. Testar modelos ARIMA, SARIMA e SARIMAX em diferentes configurações.  \n",
        "5. Comparar o desempenho dos modelos com e sem variáveis exógenas.  \n",
        "6. Validar a capacidade preditiva com dados históricos e projetar valores para 2025.  \n",
        "\n",
        "**Subetapas**  \n",
        "- Importação e limpeza dos dados do CAGED.  \n",
        "- Consolidação da taxa de saldo de empregos em série temporal.  \n",
        "- Inclusão de variáveis exógenas (taxa SELIC).  \n",
        "- Testes de estacionariedade (ADF) e análise de autocorrelação.  \n",
        "- Implementação dos modelos (ARIMA, SARIMA, SARIMAX).  \n",
        "- Validação e análise de erros.  \n",
        "- Geração de previsões para 2025.  "
      ],
      "metadata": {
        "id": "Tax--lV7ov7G"
      }
    },
    {
      "cell_type": "markdown",
      "source": [
        "# **Motivação e Justificativa**\n",
        "O aumento das desigualdades sociais e a expansão da informalidade tornam urgente a criação de ferramentas que antecipem crises no mercado de trabalho. Apesar da abundância de informações disponíveis, ainda é rara a utilização de **modelos preditivos acessíveis**, que integrem diferentes fontes de dados (como o CAGED e a SELIC) para apoiar a tomada de decisão.\n",
        "\n",
        "A motivação deste projeto está em **transformar dados históricos do emprego formal em conhecimento aplicado**, por meio da previsão da taxa de desocupação. O modelo será relevante para:\n",
        "- **Gestores públicos** – permitindo antecipar medidas de estímulo ao emprego;  \n",
        "- **Pesquisadores e economistas** – fornecendo modelos robustos para interpretar tendências;  \n",
        "- **A sociedade em geral** – beneficiada por políticas e estratégias mais efetivas no combate ao desemprego.  \n",
        "\n",
        "A contribuição prática é a entrega de um **modelo preditivo confiável e adaptável** para a taxa de desocupação no Brasil."
      ],
      "metadata": {
        "id": "jE9yYM31oqr3"
      }
    },
    {
      "cell_type": "markdown",
      "source": [
        "# **Descrição da Base de Dados**\n",
        "\n",
        "**CAGED (Cadastro Geral de Empregados e Desempregados)**  \n",
        "- **Formato**: CSV (microdados tratados de 2012 a 2025).  \n",
        "- **Período de coleta**: Janeiro/2012 a Dezembro/2025.  \n",
        "- **Intervalo**: Mensal.  \n",
        "- **Segmentação**: saldo de admissões e desligamentos, permitindo derivar a taxa de desocupação.  \n",
        "- **Fonte**: Ministério do Trabalho e Emprego (MTE).  \n",
        "\n",
        "**Variável Exógena – Taxa SELIC**  \n",
        "- **Formato**: CSV/Excel (histórico 2012–2025).  \n",
        "- **Fonte oficial**: Banco Central do Brasil.  \n",
        "\n",
        "**Características da Série**  \n",
        "- **Estacionariedade**: a série bruta apresenta sinais de não estacionariedade (média e variância não constantes). Será necessário aplicar diferenciação.  \n",
        "- **Média e variância**: variáveis ao longo do tempo.  \n",
        "- **Linearidade**: predominantemente linear, mas com flutuações que justificam o uso de modelos SARIMA/SARIMAX.  \n",
        "- **Sazonalidade**: detectada em determinados períodos do ano.  \n",
        "- **Ciclicidade**: visível em momentos de crise, mas o foco será prever tendências recorrentes.  \n",
        "\n",
        "**Justificativa da Metodologia**  \n",
        "Diante das características levantadas, opta-se por **SARIMA** para lidar com sazonalidade e tendência e por **SARIMAX** para incluir variáveis exógenas como a taxa SELIC. Caso a estacionariedade não seja atingida após transformações, consideraremos alternativas como ARIMA ou Prophet."
      ],
      "metadata": {
        "id": "VG897rGOo1Rv"
      }
    },
    {
      "cell_type": "markdown",
      "source": [
        "# **Referências**\n",
        "- OLIVEIRA, R.; ALBARRACIN, O. Y.; SILVA, G. R. *Introdução às Séries Temporais: Uma Abordagem Prática em Python*. 2023.  \n",
        "- CASAGRANDE, D. L.; OLIVEIRA, F. R.; STUDART, G. *Métodos de previsão para a taxa de desemprego mensal: uma análise de séries temporais.* Revista de Economia, 2016.  \n",
        "- BRASIL. Ministério do Trabalho e Emprego. **Cadastro Geral de Empregados e Desempregados – CAGED**. Brasília: MTE, 2012–2025. Disponível em: <http://pdet.mte.gov.br/>. Acesso em: set. 2025.  \n",
        "- BANCO CENTRAL DO BRASIL. *Taxa SELIC – histórico mensal.* Brasília, 2012–2025."
      ],
      "metadata": {
        "id": "KucOdKJLo3bG"
      }
    }
  ]
}

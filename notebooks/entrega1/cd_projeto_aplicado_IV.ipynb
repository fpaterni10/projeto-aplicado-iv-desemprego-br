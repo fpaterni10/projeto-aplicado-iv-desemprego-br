{
  "nbformat": 4,
  "nbformat_minor": 0,
  "metadata": {
    "colab": {
      "provenance": [],
      "include_colab_link": true
    },
    "kernelspec": {
      "name": "python3",
      "display_name": "Python 3"
    },
    "language_info": {
      "name": "python"
    }
  },
  "cells": [
    {
      "cell_type": "markdown",
      "metadata": {
        "id": "view-in-github",
        "colab_type": "text"
      },
      "source": [
        "<a href=\"https://colab.research.google.com/github/fpaterni10/projeto-aplicado-iv-desemprego-br/blob/main/notebooks/entrega1/cd_projeto_aplicado_IV.ipynb\" target=\"_parent\"><img src=\"https://colab.research.google.com/assets/colab-badge.svg\" alt=\"Open In Colab\"/></a>"
      ]
    },
    {
      "cell_type": "markdown",
      "source": [
        "  <img src=\"https://raw.githubusercontent.com/scalabrinig/cdProjetoAplicadoIV/d093146488f56dfcf0ef286bcee8efe0e71b9c76/figuras/mackenzie_logo.jpg\" width=\"25%\" align=\"right\"/>\n",
        "\n",
        "# **PROJETO APLICADO IV - Ciência de Dados EaD - 2025/02**\n",
        "\n",
        "# **Entrega 1**\n",
        "---"
      ],
      "metadata": {
        "id": "Ux5TSX--qOft"
      }
    },
    {
      "cell_type": "markdown",
      "source": [
        "# **Previsão da Taxa de Desocupação no Brasil com Modelos de Séries Temporais**\n",
        "---"
      ],
      "metadata": {
        "id": "-UJ6Rj9jrJFM"
      }
    },
    {
      "cell_type": "code",
      "source": [
        "#@title **Identificação do Grupo e Opção do Projeto**\n",
        "\n",
        "#@markdown Integrantes do Grupo, nome completo em ordem alfabética (*informe: <nome>, <matrícula>*)\n",
        "Aluno1 = 'Aline Correa de Araújo, 10414773' #@param {type:\"string\"}\n",
        "Aluno2 = 'Franciele Paterni, 10414598' #@param {type:\"string\"}\n",
        "Aluno3 = 'Giovanna Sobral da Silva, 10424600' #@param {type:\"string\"}\n",
        "Aluno4 = 'Guilherme Soares Frota, 10416060' #@param {type:\"string\"}"
      ],
      "metadata": {
        "id": "yky3TEyXoGaY"
      },
      "execution_count": null,
      "outputs": []
    },
    {
      "cell_type": "markdown",
      "source": [
        "# **Introdução**\n",
        "A taxa de desocupação é um dos principais indicadores socioeconômicos utilizados para avaliar a dinâmica do mercado de trabalho. Segundo o Departamento Intersindical de Estatística e Estudos Socioeconômicos (DIEESE, 2020), esse índice reflete diretamente o poder de compra, a renda das famílias e a qualidade de vida da população. Os movimentos da desocupação estão associados a fatores macroeconômicos, como política monetária, taxa básica de juros (SELIC), inflação e geração de empregos formais (Banco Central do Brasil, 2025).\n",
        "\n",
        "De acordo com Casagrande et al. (2016), a taxa de desemprego no Brasil apresenta oscilações significativas em períodos de crise econômica e retração do mercado formal, elevando a informalidade e acentuando desigualdades sociais. Oliveira, Albarracín e Silva (2023) destacam que a modelagem de séries temporais é adequada para identificar tendências, padrões sazonais e ciclos, favorecendo previsões e apoio à formulação de políticas públicas.\n",
        "\n",
        "Neste projeto, propomos um **modelo preditivo baseado em séries temporais** capaz de estimar, mês a mês, a taxa de desemprego no Brasil, utilizando microdados do Cadastro Geral de Empregados e Desempregados (CAGED) (Ministério do Trabalho e Emprego, 2012–2025) e variáveis exógenas como a taxa SELIC (Banco Central do Brasil, 2012–2025). Essa combinação integra a granularidade dos microdados trabalhistas com determinantes macroeconômicos, permitindo análises mais robustas e aplicáveis."
      ],
      "metadata": {
        "id": "3_YOokpLogtZ"
      }
    },
    {
      "cell_type": "markdown",
      "source": [
        "# **Objetivo**  \n",
        "Prever a taxa de desocupação mensal no Brasil para o ano de 2025, utilizando modelos de séries temporais baseados no CAGED (2012–2025) e incorporando variáveis exógenas como a taxa SELIC.  \n",
        "\n",
        "**Objetivos Específicos**  \n",
        "1. Consolidar e tratar uma base mensal com os microdados do CAGED (2012–2025).  \n",
        "2. Incorporar variáveis exógenas relevantes (como a SELIC) no modelo de previsão.  \n",
        "3. Analisar as propriedades estatísticas da série (estacionariedade, sazonalidade, linearidade).  \n",
        "4. Testar modelos ARIMA, SARIMA e SARIMAX em diferentes configurações.  \n",
        "5. Comparar o desempenho dos modelos com e sem variáveis exógenas.  \n",
        "6. Validar a capacidade preditiva com dados históricos e projetar valores para 2025.  "
      ],
      "metadata": {
        "id": "Tax--lV7ov7G"
      }
    },
    {
      "cell_type": "markdown",
      "source": [
        "# **Motivação e Justificativa**\n",
        "O aumento das desigualdades sociais e a expansão da informalidade tornam urgente a criação de ferramentas que antecipem crises no mercado de trabalho. Apesar da abundância de informações disponíveis, ainda é rara a utilização de **modelos preditivos acessíveis**, que integrem diferentes fontes de dados (como o CAGED e a SELIC) para apoiar a tomada de decisão.\n",
        "\n",
        "A motivação deste projeto está em **transformar dados históricos do emprego formal em conhecimento aplicado**, por meio da previsão da taxa de desocupação. O modelo será relevante para:\n",
        "- **Gestores públicos** – permitindo antecipar medidas de estímulo ao emprego;  \n",
        "- **Pesquisadores e economistas** – fornecendo modelos robustos para interpretar tendências;  \n",
        "- **A sociedade em geral** – beneficiada por políticas e estratégias mais efetivas no combate ao desemprego.  \n",
        "\n",
        "A contribuição prática é a entrega de um **modelo preditivo confiável e adaptável** para a taxa de desocupação no Brasil."
      ],
      "metadata": {
        "id": "jE9yYM31oqr3"
      }
    },
    {
      "cell_type": "markdown",
      "source": [
        "# **Descrição da Base de Dados**\n",
        "**CAGED (Cadastro Geral de Empregados e Desempregados)**  \n",
        "- **Formato**: CSV (microdados tratados de 2012 a 2025).  \n",
        "- **Período de coleta**: Janeiro/2012 a Dezembro/2025.  \n",
        "- **Intervalo**: Mensal.  \n",
        "- **Segmentação**: saldo de admissões e desligamentos, permitindo derivar a taxa de desocupação.  \n",
        "- **Fonte**: Ministério do Trabalho e Emprego (MTE).  \n",
        "\n",
        "**Variável Exógena – Taxa SELIC**  \n",
        "- **Formato**: CSV/Excel (histórico 2012–2025).  \n",
        "- **Fonte oficial**: Banco Central do Brasil.  \n",
        "\n",
        "**Características da Série**  \n",
        "- **Estacionariedade**: a série bruta apresenta sinais de não estacionariedade (média e variância não constantes). Será necessário aplicar diferenciação.  \n",
        "- **Média e variância**: variáveis ao longo do tempo.  \n",
        "- **Linearidade**: predominantemente linear, mas com flutuações que justificam o uso de modelos SARIMA/SARIMAX.  \n",
        "- **Sazonalidade**: detectada em determinados períodos do ano.  \n",
        "- **Ciclicidade**: visível em momentos de crise, mas o foco será prever tendências recorrentes.  \n",
        "\n",
        "**Justificativa da Metodologia**  \n",
        "Diante das características levantadas, opta-se por **SARIMA** para lidar com sazonalidade e tendência e por **SARIMAX** para incluir variáveis exógenas como a taxa SELIC. Caso a estacionariedade não seja atingida após transformações, consideraremos alternativas como ARIMA ou Prophet."
      ],
      "metadata": {
        "id": "VG897rGOo1Rv"
      }
    },
    {
      "cell_type": "markdown",
      "source": [
        "# **Referências**\n",
        "- BANCO CENTRAL DO BRASIL. *Taxa SELIC – séries históricas (mensal)*. Brasília, 2012–2025. Disponível em: <https://www.bcb.gov.br/estatisticas/txjuros>. Acesso em: set. 2025.  \n",
        "- CASAGRANDE, D. L.; OLIVEIRA, F. R.; STUDART, G.; SILVA, I. B.; GUIMARÃES, P. H. M. *Métodos de previsão para a taxa de desemprego mensal: uma análise de séries temporais*. Revista de Economia, v. 12, n. 1, p. 58–86, 2016.  \n",
        "- DIEESE – Departamento Intersindical de Estatística e Estudos Socioeconômicos. *Análises da taxa de desemprego e mercado de trabalho*. São Paulo: DIEESE, 2020. Disponível em: <https://www.dieese.org.br/>. Acesso em: set. 2025.  \n",
        "- MINISTÉRIO DO TRABALHO E EMPREGO (MTE). *Cadastro Geral de Empregados e Desempregados – CAGED: microdados mensais* (2012–2025). Brasília: MTE. Portal PDET: <http://pdet.mte.gov.br/>. Acesso em: set. 2025.  \n",
        "- OLIVEIRA, R.; ALBARRACIN, O. Y.; SILVA, G. R. *Introdução às Séries Temporais: Uma Abordagem Prática em Python*. 2023. Disponível em: <https://github.com/Introducao-Series-Temporais-em-Python/Book>. Acesso em: set. 2025."
      ],
      "metadata": {
        "id": "KucOdKJLo3bG"
      }
    }
  ]
}

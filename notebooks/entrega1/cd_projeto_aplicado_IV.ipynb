{

&nbsp; "nbformat": 4,

&nbsp; "nbformat\_minor": 0,

&nbsp; "metadata": {

&nbsp;   "colab": {

&nbsp;     "provenance": \[],

&nbsp;     "include\_colab\_link": true

&nbsp;   },

&nbsp;   "kernelspec": {

&nbsp;     "name": "python3",

&nbsp;     "display\_name": "Python 3"

&nbsp;   },

&nbsp;   "language\_info": {

&nbsp;     "name": "python"

&nbsp;   }

&nbsp; },

&nbsp; "cells": \[

&nbsp;   {

&nbsp;     "cell\_type": "markdown",

&nbsp;     "metadata": {

&nbsp;       "id": "view-in-github",

&nbsp;       "colab\_type": "text"

&nbsp;     },

&nbsp;     "source": \[

&nbsp;       "<a href=\\"https://colab.research.google.com/github/fpaterni10/projeto-aplicado-iv-desemprego-br/blob/main/notebooks/entrega1/cd\_projeto\_aplicado\_IV.ipynb\\" target=\\"\_parent\\"><img src=\\"https://colab.research.google.com/assets/colab-badge.svg\\" alt=\\"Open In Colab\\"/></a>"

&nbsp;     ]

&nbsp;   },

&nbsp;   {

&nbsp;     "cell\_type": "markdown",

&nbsp;     "source": \[

&nbsp;       "  <img src=\\"https://raw.githubusercontent.com/scalabrinig/cdProjetoAplicadoIV/d093146488f56dfcf0ef286bcee8efe0e71b9c76/figuras/mackenzie\_logo.jpg\\" width=\\"25%\\" align=\\"right\\"/>\\n",

&nbsp;       "\\n",

&nbsp;       "# \*\*PROJETO APLICADO IV - Ciência de Dados EaD - 2025/02\*\*\\n",

&nbsp;       "\\n",

&nbsp;       "# \*\*Entrega 1\*\*\\n",

&nbsp;       "---"

&nbsp;     ],

&nbsp;     "metadata": {

&nbsp;       "id": "Ux5TSX--qOft"

&nbsp;     }

&nbsp;   },

&nbsp;   {

&nbsp;     "cell\_type": "markdown",

&nbsp;     "source": \[

&nbsp;       "# \*\*Previsão da Taxa de Desocupação no Brasil com Modelos de Séries Temporais\*\*\\n",

&nbsp;       "---"

&nbsp;     ],

&nbsp;     "metadata": {

&nbsp;       "id": "-UJ6Rj9jrJFM"

&nbsp;     }

&nbsp;   },

&nbsp;   {

&nbsp;     "cell\_type": "code",

&nbsp;     "source": \[

&nbsp;       "#@title \*\*Identificação do Grupo e Opção do Projeto\*\*\\n",

&nbsp;       "\\n",

&nbsp;       "#@markdown Integrantes do Grupo, nome completo em ordem alfabética (\*informe: <nome>, <matrícula>\*)\\n",

&nbsp;       "Aluno1 = 'Aline Correa de Araújo, 10414773' #@param {type:\\"string\\"}\\n",

&nbsp;       "Aluno2 = 'Franciele Paterni, 10414598' #@param {type:\\"string\\"}\\n",

&nbsp;       "Aluno3 = 'Giovanna Sobral da Silva, 10424600' #@param {type:\\"string\\"}\\n",

&nbsp;       "Aluno4 = 'Guilherme Soares Frota, 10416060' #@param {type:\\"string\\"}"

&nbsp;     ],

&nbsp;     "metadata": {

&nbsp;       "id": "yky3TEyXoGaY"

&nbsp;     },

&nbsp;     "execution\_count": null,

&nbsp;     "outputs": \[]

&nbsp;   },

&nbsp;   {

&nbsp;     "cell\_type": "markdown",

&nbsp;     "source": \[

&nbsp;       "# \*\*Introdução\*\*\\n",

&nbsp;       "A taxa de desocupação é um dos principais indicadores socioeconômicos utilizados para avaliar a dinâmica do mercado de trabalho. Segundo o Departamento Intersindical de Estatística e Estudos Socioeconômicos (DIEESE, 2020), esse índice reflete diretamente o poder de compra, a renda das famílias e a qualidade de vida da população. Os movimentos da desocupação estão associados a fatores macroeconômicos, como política monetária, taxa básica de juros (SELIC), inflação e geração de empregos formais (Banco Central do Brasil, 2025).\\n",

&nbsp;       "\\n",

&nbsp;       "De acordo com Casagrande et al. (2016), a taxa de desemprego no Brasil apresenta oscilações significativas em períodos de crise econômica e retração do mercado formal, elevando a informalidade e acentuando desigualdades sociais. Oliveira, Albarracín e Silva (2023) destacam que a modelagem de séries temporais é adequada para identificar tendências, padrões sazonais e ciclos, favorecendo previsões e apoio à formulação de políticas públicas.\\n",

&nbsp;       "\\n",

&nbsp;       "Neste projeto, propomos um \*\*modelo preditivo baseado em séries temporais\*\* capaz de estimar, mês a mês, a taxa de desemprego no Brasil, utilizando microdados do Cadastro Geral de Empregados e Desempregados (CAGED) (Ministério do Trabalho e Emprego, 2012–2025) e variáveis exógenas como a taxa SELIC (Banco Central do Brasil, 2012–2025). Essa combinação integra a granularidade dos microdados trabalhistas com determinantes macroeconômicos, permitindo análises mais robustas e aplicáveis."

&nbsp;     ],

&nbsp;     "metadata": {

&nbsp;       "id": "3\_YOokpLogtZ"

&nbsp;     }

&nbsp;   },

&nbsp;   {

&nbsp;     "cell\_type": "markdown",

&nbsp;     "source": \[

&nbsp;       "# \*\*Objetivo\*\*  \\n",

&nbsp;       "Prever a taxa de desocupação mensal no Brasil para o ano de 2025, utilizando modelos de séries temporais baseados no CAGED (2012–2025) e incorporando variáveis exógenas como a taxa SELIC.  \\n",

&nbsp;       "\\n",

&nbsp;       "\*\*Objetivos Específicos\*\*  \\n",

&nbsp;       "1. Consolidar e tratar uma base mensal com os microdados do CAGED (2012–2025).  \\n",

&nbsp;       "2. Incorporar variáveis exógenas relevantes (como a SELIC) no modelo de previsão.  \\n",

&nbsp;       "3. Analisar as propriedades estatísticas da série (estacionariedade, sazonalidade, linearidade).  \\n",

&nbsp;       "4. Testar modelos ARIMA, SARIMA e SARIMAX em diferentes configurações.  \\n",

&nbsp;       "5. Comparar o desempenho dos modelos com e sem variáveis exógenas.  \\n",

&nbsp;       "6. Validar a capacidade preditiva com dados históricos e projetar valores para 2025.  "

&nbsp;     ],

&nbsp;     "metadata": {

&nbsp;       "id": "Tax--lV7ov7G"

&nbsp;     }

&nbsp;   },

&nbsp;   {

&nbsp;     "cell\_type": "markdown",

&nbsp;     "source": \[

&nbsp;       "# \*\*Motivação e Justificativa\*\*\\n",

&nbsp;       "O aumento das desigualdades sociais e a expansão da informalidade tornam urgente a criação de ferramentas que antecipem crises no mercado de trabalho. Apesar da abundância de informações disponíveis, ainda é rara a utilização de \*\*modelos preditivos acessíveis\*\*, que integrem diferentes fontes de dados (como o CAGED e a SELIC) para apoiar a tomada de decisão.\\n",

&nbsp;       "\\n",

&nbsp;       "A motivação deste projeto está em \*\*transformar dados históricos do emprego formal em conhecimento aplicado\*\*, por meio da previsão da taxa de desocupação. O modelo será relevante para:\\n",

&nbsp;       "- \*\*Gestores públicos\*\* – permitindo antecipar medidas de estímulo ao emprego;  \\n",

&nbsp;       "- \*\*Pesquisadores e economistas\*\* – fornecendo modelos robustos para interpretar tendências;  \\n",

&nbsp;       "- \*\*A sociedade em geral\*\* – beneficiada por políticas e estratégias mais efetivas no combate ao desemprego.  \\n",

&nbsp;       "\\n",

&nbsp;       "A contribuição prática é a entrega de um \*\*modelo preditivo confiável e adaptável\*\* para a taxa de desocupação no Brasil."

&nbsp;     ],

&nbsp;     "metadata": {

&nbsp;       "id": "jE9yYM31oqr3"

&nbsp;     }

&nbsp;   },

&nbsp;   {

&nbsp;     "cell\_type": "markdown",

&nbsp;     "source": \[

&nbsp;       "# \*\*Descrição da Base de Dados\*\*\\n",

&nbsp;       "\*\*CAGED (Cadastro Geral de Empregados e Desempregados)\*\*  \\n",

&nbsp;       "- \*\*Formato\*\*: CSV (microdados tratados de 2012 a 2025).  \\n",

&nbsp;       "- \*\*Período de coleta\*\*: Janeiro/2012 a Dezembro/2025.  \\n",

&nbsp;       "- \*\*Intervalo\*\*: Mensal.  \\n",

&nbsp;       "- \*\*Segmentação\*\*: saldo de admissões e desligamentos, permitindo derivar a taxa de desocupação.  \\n",

&nbsp;       "- \*\*Fonte\*\*: Ministério do Trabalho e Emprego (MTE).  \\n",

&nbsp;       "\\n",

&nbsp;       "\*\*Variável Exógena – Taxa SELIC\*\*  \\n",

&nbsp;       "- \*\*Formato\*\*: CSV/Excel (histórico 2012–2025).  \\n",

&nbsp;       "- \*\*Fonte oficial\*\*: Banco Central do Brasil.  \\n",

&nbsp;       "\\n",

&nbsp;       "\*\*Características da Série\*\*  \\n",

&nbsp;       "- \*\*Estacionariedade\*\*: a série bruta apresenta sinais de não estacionariedade (média e variância não constantes). Será necessário aplicar diferenciação.  \\n",

&nbsp;       "- \*\*Média e variância\*\*: variáveis ao longo do tempo.  \\n",

&nbsp;       "- \*\*Linearidade\*\*: predominantemente linear, mas com flutuações que justificam o uso de modelos SARIMA/SARIMAX.  \\n",

&nbsp;       "- \*\*Sazonalidade\*\*: detectada em determinados períodos do ano.  \\n",

&nbsp;       "- \*\*Ciclicidade\*\*: visível em momentos de crise, mas o foco será prever tendências recorrentes.  \\n",

&nbsp;       "\\n",

&nbsp;       "\*\*Justificativa da Metodologia\*\*  \\n",

&nbsp;       "Diante das características levantadas, opta-se por \*\*SARIMA\*\* para lidar com sazonalidade e tendência e por \*\*SARIMAX\*\* para incluir variáveis exógenas como a taxa SELIC. Caso a estacionariedade não seja atingida após transformações, consideraremos alternativas como ARIMA ou Prophet."

&nbsp;     ],

&nbsp;     "metadata": {

&nbsp;       "id": "VG897rGOo1Rv"

&nbsp;     }

&nbsp;   },

&nbsp;   {

&nbsp;     "cell\_type": "markdown",

&nbsp;     "source": \[

&nbsp;       "# \*\*Referências\*\*\\n",

&nbsp;       "- BANCO CENTRAL DO BRASIL. \*Taxa SELIC – séries históricas (mensal)\*. Brasília, 2012–2025. Disponível em: <https://www.bcb.gov.br/estatisticas/txjuros>. Acesso em: set. 2025.  \\n",

&nbsp;       "- CASAGRANDE, D. L.; OLIVEIRA, F. R.; STUDART, G.; SILVA, I. B.; GUIMARÃES, P. H. M. \*Métodos de previsão para a taxa de desemprego mensal: uma análise de séries temporais\*. Revista de Economia, v. 12, n. 1, p. 58–86, 2016.  \\n",

&nbsp;       "- DIEESE – Departamento Intersindical de Estatística e Estudos Socioeconômicos. \*Análises da taxa de desemprego e mercado de trabalho\*. São Paulo: DIEESE, 2020. Disponível em: <https://www.dieese.org.br/>. Acesso em: set. 2025.  \\n",

&nbsp;       "- MINISTÉRIO DO TRABALHO E EMPREGO (MTE). \*Cadastro Geral de Empregados e Desempregados – CAGED: microdados mensais\* (2012–2025). Brasília: MTE. Portal PDET: <http://pdet.mte.gov.br/>. Acesso em: set. 2025.  \\n",

&nbsp;       "- OLIVEIRA, R.; ALBARRACIN, O. Y.; SILVA, G. R. \*Introdução às Séries Temporais: Uma Abordagem Prática em Python\*. 2023. Disponível em: <https://github.com/Introducao-Series-Temporais-em-Python/Book>. Acesso em: set. 2025."

&nbsp;     ],

&nbsp;     "metadata": {

&nbsp;       "id": "KucOdKJLo3bG"

&nbsp;     }

&nbsp;   }

&nbsp; ]

}

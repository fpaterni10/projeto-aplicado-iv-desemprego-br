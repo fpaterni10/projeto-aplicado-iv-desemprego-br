{
  "nbformat": 4,
  "nbformat_minor": 0,
  "metadata": {
    "colab": {
      "provenance": [],
      "include_colab_link": true
    },
    "kernelspec": {
      "name": "python3",
      "display_name": "Python 3"
    },
    "language_info": {
      "name": "python"
    }
  },
  "cells": [
    {
      "cell_type": "markdown",
      "metadata": {
        "id": "view-in-github",
        "colab_type": "text"
      },
      "source": [
        "<a href=\"https://colab.research.google.com/github/fpaterni10/projeto-aplicado-iv-desemprego-br/blob/main/notebooks/entrega2/cd_projeto_aplicado_IV_entrega_2.ipynb\" target=\"_parent\"><img src=\"https://colab.research.google.com/assets/colab-badge.svg\" alt=\"Open In Colab\"/></a>"
      ]
    },
    {
      "cell_type": "markdown",
      "metadata": {
        "id": "Ux5TSX--qOft"
      },
      "source": [
        "  <img src=\"https://raw.githubusercontent.com/scalabrinig/cdProjetoAplicadoIV/d093146488f56dfcf0ef286bcee8efe0e71b9c76/figuras/mackenzie_logo.jpg\" width=\"25%\" align=\"right\"/>\n",
        "\n",
        "# **PROJETO APLICADO IV - Ciência de Dados EaD - 2025/02**\n",
        "\n",
        "# **Entrega 2**\n",
        "\n",
        "---"
      ]
    },
    {
      "cell_type": "markdown",
      "metadata": {
        "id": "-UJ6Rj9jrJFM"
      },
      "source": [
        "# **Previsão da Taxa de Desocupação com Modelos de Séries Temporais**:\n",
        "\n",
        "---"
      ]
    },
    {
      "cell_type": "code",
      "metadata": {
        "id": "yky3TEyXoGaY"
      },
      "execution_count": null,
      "outputs": [],
      "source": [
